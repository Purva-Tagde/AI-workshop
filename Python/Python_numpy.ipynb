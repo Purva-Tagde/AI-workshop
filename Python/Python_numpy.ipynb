{
  "nbformat": 4,
  "nbformat_minor": 0,
  "metadata": {
    "colab": {
      "provenance": [],
      "toc_visible": true
    },
    "kernelspec": {
      "name": "python3",
      "display_name": "Python 3"
    },
    "language_info": {
      "name": "python"
    }
  },
  "cells": [
    {
      "cell_type": "code",
      "execution_count": null,
      "metadata": {
        "colab": {
          "base_uri": "https://localhost:8080/"
        },
        "id": "SXt7is1viJh9",
        "outputId": "e88437f2-d18b-4a1c-965f-5061b07ca25f"
      },
      "outputs": [
        {
          "output_type": "stream",
          "name": "stdout",
          "text": [
            "\n",
            "Energy Consumption:\n",
            "[1200 3400 2900 1800 2500]\n"
          ]
        }
      ],
      "source": [
        "#numpy library\n",
        "import numpy as np\n",
        "energy_consumption=np.array([1200, 3400, 2900, 1800, 2500])\n",
        "print(\"\\nEnergy Consumption:\")\n",
        "print(energy_consumption)"
      ]
    },
    {
      "cell_type": "code",
      "source": [
        "import numpy as np\n",
        "mylist=[[1,2,3],[4,5,6],[7,8,9]]\n",
        "np.array(mylist)"
      ],
      "metadata": {
        "colab": {
          "base_uri": "https://localhost:8080/"
        },
        "id": "AYRtI9GDjDTT",
        "outputId": "70366e94-09fb-40b5-b202-f3f6f6fba6eb"
      },
      "execution_count": null,
      "outputs": [
        {
          "output_type": "execute_result",
          "data": {
            "text/plain": [
              "array([[1, 2, 3],\n",
              "       [4, 5, 6],\n",
              "       [7, 8, 9]])"
            ]
          },
          "metadata": {},
          "execution_count": 17
        }
      ]
    },
    {
      "cell_type": "markdown",
      "source": [
        "np.array():\n",
        "np.random.randint(0,10,1):\n",
        "np.unique():\n",
        "np.dot():\n",
        "np.power(a,2):\n",
        "np.sqrt(a):\n",
        "np.ones():\n",
        "np.zeros():\n",
        "np.max():\n",
        "np.arange(10):"
      ],
      "metadata": {
        "id": "ZBVhaYsHl34V"
      }
    },
    {
      "cell_type": "code",
      "source": [
        "np.random.rand(4,4)"
      ],
      "metadata": {
        "colab": {
          "base_uri": "https://localhost:8080/"
        },
        "id": "VHeOnnoXj-LX",
        "outputId": "6d75dce2-7cd4-4708-81b9-d042f41e2899"
      },
      "execution_count": null,
      "outputs": [
        {
          "output_type": "execute_result",
          "data": {
            "text/plain": [
              "array([[0.74914332, 0.82317324, 0.32254141, 0.5915032 ],\n",
              "       [0.63183907, 0.32665744, 0.28941892, 0.87247594],\n",
              "       [0.36258586, 0.14892574, 0.67794415, 0.14893048],\n",
              "       [0.77928764, 0.11552002, 0.17829851, 0.73622453]])"
            ]
          },
          "metadata": {},
          "execution_count": 18
        }
      ]
    },
    {
      "cell_type": "code",
      "source": [
        "total_consumption=np.sum(energy_consumption)\n",
        "print(f\"Total Energy Consumption:{total_consumption}MWh\")\n",
        "print(total_consumption)"
      ],
      "metadata": {
        "colab": {
          "base_uri": "https://localhost:8080/"
        },
        "id": "MmULMzYdm6oy",
        "outputId": "0be84e87-40a1-4607-c709-cb6aeb302be7"
      },
      "execution_count": null,
      "outputs": [
        {
          "output_type": "stream",
          "name": "stdout",
          "text": [
            "Total Energy Consumption:11800MWh\n",
            "11800\n"
          ]
        }
      ]
    },
    {
      "cell_type": "code",
      "source": [
        "mean_consumption=np.mean(energy_consumption)\n",
        "print(f\"\\nMean Energy Consumption:{mean_consumption:.2f}MWh\")"
      ],
      "metadata": {
        "colab": {
          "base_uri": "https://localhost:8080/"
        },
        "id": "qYGYGdzhnQiU",
        "outputId": "c07c50c9-6dcc-4aa0-ab61-693eb49ee178"
      },
      "execution_count": null,
      "outputs": [
        {
          "output_type": "stream",
          "name": "stdout",
          "text": [
            "\n",
            "Mean Energy Consumption:2360.00MWh\n"
          ]
        }
      ]
    },
    {
      "cell_type": "code",
      "source": [
        "std_deviation=np.std(energy_consumption)\n",
        "print(f\"\\nStandard Deviation of Energy Consumption:{std_deviation:.2f}MWh\")\n"
      ],
      "metadata": {
        "colab": {
          "base_uri": "https://localhost:8080/"
        },
        "id": "kvbfvY9xoVYA",
        "outputId": "4f31210d-2d0a-47ea-a5df-cdbd0f00f2ba"
      },
      "execution_count": null,
      "outputs": [
        {
          "output_type": "stream",
          "name": "stdout",
          "text": [
            "\n",
            "Standard Deviation of Energy Consumption:781.28MWh\n"
          ]
        }
      ]
    },
    {
      "cell_type": "code",
      "source": [
        "reshaped_array=energy_consumption.reshape(5,1)\n",
        "print(\"\\nReshaped Energy Consumption Array(5x1):\")\n",
        "print(reshaped_array)\n"
      ],
      "metadata": {
        "colab": {
          "base_uri": "https://localhost:8080/"
        },
        "id": "Z4xPru2Xofvh",
        "outputId": "54b60460-c1fc-4898-ce76-8864399dfd0c"
      },
      "execution_count": null,
      "outputs": [
        {
          "output_type": "stream",
          "name": "stdout",
          "text": [
            "\n",
            "Reshaped Energy Consumption Array(5x1):\n",
            "[[1200]\n",
            " [3400]\n",
            " [2900]\n",
            " [1800]\n",
            " [2500]]\n"
          ]
        }
      ]
    }
  ]
}